{
 "metadata": {
  "name": "",
  "signature": "sha256:a9fb0d6979afdcf5ee6aefd7aa4e0c494f3e219b4b09a03fb28c9b7970d29f9e"
 },
 "nbformat": 3,
 "nbformat_minor": 0,
 "worksheets": [
  {
   "cells": [
    {
     "cell_type": "code",
     "collapsed": false,
     "input": [
      "from unidecode import unidecode\n",
      "from tabulate import tabulate\n",
      "import numpy as np\n",
      "import pylab as pl\n",
      "import pickle\n",
      "import os\n",
      "import sys\n",
      "import scipy\n",
      "from sklearn.preprocessing import StandardScaler\n",
      "import sys, time"
     ],
     "language": "python",
     "metadata": {},
     "outputs": []
    },
    {
     "cell_type": "code",
     "collapsed": false,
     "input": [],
     "language": "python",
     "metadata": {},
     "outputs": []
    },
    {
     "cell_type": "code",
     "collapsed": false,
     "input": [],
     "language": "python",
     "metadata": {},
     "outputs": []
    },
    {
     "cell_type": "markdown",
     "metadata": {},
     "source": [
      "###ProgressBar\n",
      "```python\n",
      "p = Progressbar(120)\n",
      "for i in range(1, 120+1):\n",
      "    p.animate(i)\n",
      "```"
     ]
    },
    {
     "cell_type": "code",
     "collapsed": false,
     "input": [
      "try:\n",
      "    from IPython.display import clear_output\n",
      "    have_ipython = True\n",
      "except ImportError:\n",
      "    have_ipython = False\n",
      "\n",
      "class ProgressBar(object):\n",
      "    def __init__(self, iterations):\n",
      "        self.iterations = iterations\n",
      "        self.prog_bar = '[]'\n",
      "        self.fill_char = '*'\n",
      "        self.width = 20\n",
      "        self.__update_amount(0)\n",
      "        if have_ipython:\n",
      "            self.animate = self.animate_ipython\n",
      "        else:\n",
      "            self.animate = self.animate_noipython\n",
      "\n",
      "    def animate_ipython(self, iter):\n",
      "        print ('\\r', self, end=\"\")\n",
      "        sys.stdout.flush()\n",
      "        self.update_iteration(iter + 1)\n",
      "        if (iter + 1 > self.iterations):\n",
      "            print ()\n",
      "\n",
      "    def update_iteration(self, elapsed_iter):\n",
      "        self.__update_amount((elapsed_iter / float(self.iterations)) * 100.0)\n",
      "        self.prog_bar += '  %d of %s complete ' % (elapsed_iter, self.iterations)\n",
      "\n",
      "    def __update_amount(self, new_amount):\n",
      "        percent_done = int(round((new_amount / 100.0) * 100.0))\n",
      "        all_full = self.width - 2\n",
      "        num_hashes = int(round((percent_done / 100.0) * all_full))\n",
      "        self.prog_bar = '[' + self.fill_char * num_hashes + ' ' * (all_full - num_hashes) + ']'\n",
      "        pct_place = (len(self.prog_bar) // 2) - len(str(percent_done))\n",
      "        pct_string = '%d%%' % percent_done\n",
      "        self.prog_bar = self.prog_bar[0:pct_place] + \\\n",
      "            (pct_string + self.prog_bar[pct_place + len(pct_string):])\n",
      "\n",
      "    def __str__(self):\n",
      "        return str(self.prog_bar)\n"
     ],
     "language": "python",
     "metadata": {},
     "outputs": []
    }
   ],
   "metadata": {}
  }
 ]
}